{
 "cells": [
  {
   "cell_type": "markdown",
   "metadata": {},
   "source": [
    "## Codeforces Python problemset solutions\n",
    "\n",
    "This notebooks contains my python solutions for codeforces problem sets.\n",
    "\n",
    "https://codeforces.com/problemset\n",
    "\n",
    "Author: Adolfo Alamos Mella\n",
    "\n",
    "LinkedIn: https://www.linkedin.com/in/adolfo-%C3%A1lamos-mella-bb9332143/\n",
    "\n",
    "__Note__: The input provided is customized for some problems in the notebook for testing purposes, remember to use the appropiate input when submitting your own solutions in the site.\n",
    "\n",
    "All the solutions can be improved.\n"
   ]
  },
  {
   "cell_type": "markdown",
   "metadata": {},
   "source": [
    "### 977A - A wrong substraction"
   ]
  },
  {
   "cell_type": "code",
   "execution_count": 24,
   "metadata": {},
   "outputs": [],
   "source": [
    "arr = '512 4'\n",
    "n, k = list(map(int, arr.split()))\n",
    "\n",
    "for i in range(k):\n",
    "    if int(str(n)[-1]) != 0:\n",
    "        n -= 1\n",
    "    else:\n",
    "        n /= 10\n",
    "    n = int(n)\n",
    "print(n)     "
   ]
  },
  {
   "cell_type": "markdown",
   "metadata": {},
   "source": [
    "### 617A - Elephant"
   ]
  },
  {
   "cell_type": "code",
   "execution_count": 46,
   "metadata": {},
   "outputs": [
    {
     "name": "stdout",
     "output_type": "stream",
     "text": [
      "3\n"
     ]
    }
   ],
   "source": [
    "arr = '12'\n",
    "\n",
    "steps = 0\n",
    "x = 0\n",
    "\n",
    "while x < int(arr):\n",
    "    steps += 1\n",
    "    x += 5\n",
    "\n",
    "print(steps)"
   ]
  },
  {
   "cell_type": "markdown",
   "metadata": {},
   "source": [
    "### 266B - Queue at the school"
   ]
  },
  {
   "cell_type": "code",
   "execution_count": 57,
   "metadata": {},
   "outputs": [],
   "source": [
    "int1 = '5 2'\n",
    "int2 = 'BGGBG'\n",
    "\n",
    "n , k = list(map(int, int1.split()))\n",
    "\n",
    "for i in range(k):\n",
    "    int2 = int2.replace('BG', 'GB')\n",
    "\n",
    "int2"
   ]
  },
  {
   "cell_type": "markdown",
   "metadata": {},
   "source": [
    "### 110A - Nearly Lucky Number"
   ]
  },
  {
   "cell_type": "code",
   "execution_count": 11,
   "metadata": {},
   "outputs": [
    {
     "name": "stdout",
     "output_type": "stream",
     "text": [
      "NO\n"
     ]
    }
   ],
   "source": [
    "inp = '1000000000000000000'\n",
    "\n",
    "if sum([1 if int(inp[i]) in [4,7] else 0 for i in range(len(inp))]) in [4, 7]:\n",
    "    print('YES')\n",
    "else:\n",
    "    print('NO')\n",
    "    "
   ]
  },
  {
   "cell_type": "markdown",
   "metadata": {},
   "source": [
    "### 59A - Word"
   ]
  },
  {
   "cell_type": "code",
   "execution_count": 7,
   "metadata": {},
   "outputs": [
    {
     "name": "stdout",
     "output_type": "stream",
     "text": [
      "matrix\n"
     ]
    }
   ],
   "source": [
    "n = 'maTRIx' # For submission, we replace n for input()\n",
    "\n",
    "upper = 0\n",
    "lower = 0\n",
    "\n",
    "for i in range(len(n)):\n",
    "    if n[i].islower():\n",
    "        lower +=1 \n",
    "    else:\n",
    "        upper +=1\n",
    "\n",
    "if lower >= upper:\n",
    "    print(n.lower())\n",
    "else:\n",
    "    print(n.upper())"
   ]
  },
  {
   "cell_type": "markdown",
   "metadata": {},
   "source": [
    "### 112A - Petya and Strings"
   ]
  },
  {
   "cell_type": "code",
   "execution_count": 8,
   "metadata": {},
   "outputs": [
    {
     "name": "stdout",
     "output_type": "stream",
     "text": [
      "aaaa\n",
      "aaaA\n",
      "0\n"
     ]
    }
   ],
   "source": [
    "a = input().lower()\n",
    "b = input().lower()\n",
    " \n",
    "if a > b:\n",
    "    print(1)\n",
    "elif a < b:\n",
    "    print(-1)\n",
    "else:\n",
    "    print(0)"
   ]
  },
  {
   "cell_type": "markdown",
   "metadata": {},
   "source": [
    "### 282A - Bit++"
   ]
  },
  {
   "cell_type": "code",
   "execution_count": 9,
   "metadata": {},
   "outputs": [
    {
     "name": "stdout",
     "output_type": "stream",
     "text": [
      "1\n",
      "++X\n",
      "1\n"
     ]
    }
   ],
   "source": [
    "n = int(input())\n",
    " \n",
    "x = 0\n",
    "for i in range(n):\n",
    "    l = input().split('X')\n",
    "    if '++' in l:\n",
    "        x += 1\n",
    "    else:\n",
    "        x -= 1\n",
    " \n",
    "print(int(x))"
   ]
  },
  {
   "cell_type": "markdown",
   "metadata": {},
   "source": [
    "### 50A  - Domino Pilling"
   ]
  },
  {
   "cell_type": "code",
   "execution_count": 12,
   "metadata": {},
   "outputs": [
    {
     "name": "stdout",
     "output_type": "stream",
     "text": [
      "2 4\n",
      "4\n"
     ]
    }
   ],
   "source": [
    "x, y = list(map(int, input().split()))\n",
    " \n",
    "total = print(int((x * y/2 -0.5) if (x * y % 2) != 0 else (x * y/2)))"
   ]
  },
  {
   "cell_type": "markdown",
   "metadata": {},
   "source": [
    "###  263A - Beautiful Matrix"
   ]
  },
  {
   "cell_type": "code",
   "execution_count": 14,
   "metadata": {},
   "outputs": [
    {
     "name": "stdout",
     "output_type": "stream",
     "text": [
      "0 0 0 0 0\n",
      "0 0 0 0 1\n",
      "0 0 0 0 0\n",
      "0 0 0 0 0\n",
      "0 0 0 0 0\n",
      "3\n"
     ]
    }
   ],
   "source": [
    "l1 = list(map(int, input().split()))\n",
    "l2 = list(map(int, input().split()))\n",
    "l3 = list(map(int, input().split()))\n",
    "l4 = list(map(int, input().split()))\n",
    "l5 = list(map(int, input().split()))\n",
    " \n",
    "m = [l1, l2, l3, l4, l5]\n",
    " \n",
    "for i, n in enumerate(m):\n",
    "    if sum(n) != 0:\n",
    "        for x, y in enumerate(n):\n",
    "            if y != 0:\n",
    "                x1 = i\n",
    "                y1 = x\n",
    "                \n",
    "print(abs(2 - x1) + abs(2 - y1))"
   ]
  },
  {
   "cell_type": "markdown",
   "metadata": {},
   "source": [
    "### 339A - Helpful Maths"
   ]
  },
  {
   "cell_type": "code",
   "execution_count": 15,
   "metadata": {},
   "outputs": [
    {
     "name": "stdout",
     "output_type": "stream",
     "text": [
      "3+2+1\n",
      "1+2+3\n"
     ]
    }
   ],
   "source": [
    "lst = list(map(int, input().split('+')))\n",
    " \n",
    "sorted_lst = sorted(lst)\n",
    " \n",
    "h = ''\n",
    " \n",
    "for i in range(0,len(sorted_lst)):\n",
    "    if i != (len(sorted_lst)-1):\n",
    "        h += str(sorted_lst[i]) + '+'\n",
    "    else:\n",
    "        h += str(sorted_lst[i])\n",
    " \n",
    "print(h)"
   ]
  },
  {
   "cell_type": "code",
   "execution_count": null,
   "metadata": {},
   "outputs": [],
   "source": []
  }
 ],
 "metadata": {
  "kernelspec": {
   "display_name": "Python 3",
   "language": "python",
   "name": "python3"
  },
  "language_info": {
   "codemirror_mode": {
    "name": "ipython",
    "version": 3
   },
   "file_extension": ".py",
   "mimetype": "text/x-python",
   "name": "python",
   "nbconvert_exporter": "python",
   "pygments_lexer": "ipython3",
   "version": "3.7.6"
  }
 },
 "nbformat": 4,
 "nbformat_minor": 4
}
