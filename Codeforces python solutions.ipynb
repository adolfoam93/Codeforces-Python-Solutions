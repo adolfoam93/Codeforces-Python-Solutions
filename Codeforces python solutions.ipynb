{
 "cells": [
  {
   "cell_type": "markdown",
   "metadata": {},
   "source": [
    "## Codeforces problemset solutions\n",
    "\n",
    "This notebooks contains my python solutions for codeforces problem sets.\n",
    "\n",
    "https://codeforces.com/problemset\n",
    "\n",
    "Author: Adolfo Alamos Mella\n",
    "LinkedIn: https://www.linkedin.com/in/adolfo-%C3%A1lamos-mella-bb9332143/\n",
    "\n",
    "__Note__: The input provided is customized for the notebook testing purposes, remember to use the appropiate input when submitting your own solutions in the site.\n",
    "\n",
    "\n"
   ]
  },
  {
   "cell_type": "markdown",
   "metadata": {},
   "source": [
    "### 977A - A wrong substraction"
   ]
  },
  {
   "cell_type": "code",
   "execution_count": 24,
   "metadata": {},
   "outputs": [],
   "source": [
    "arr = '512 4'\n",
    "n, k = list(map(int, arr.split()))\n",
    "\n",
    "for i in range(k):\n",
    "    if int(str(n)[-1]) != 0:\n",
    "        n -= 1\n",
    "    else:\n",
    "        n /= 10\n",
    "    n = int(n)\n",
    "print(n)     "
   ]
  },
  {
   "cell_type": "markdown",
   "metadata": {},
   "source": [
    "### 617A - Elephant"
   ]
  },
  {
   "cell_type": "code",
   "execution_count": 46,
   "metadata": {},
   "outputs": [
    {
     "name": "stdout",
     "output_type": "stream",
     "text": [
      "3\n"
     ]
    }
   ],
   "source": [
    "arr = '12'\n",
    "\n",
    "steps = 0\n",
    "x = 0\n",
    "\n",
    "while x < int(arr):\n",
    "    steps += 1\n",
    "    x += 5\n",
    "\n",
    "print(steps)"
   ]
  },
  {
   "cell_type": "markdown",
   "metadata": {},
   "source": [
    "### 266B - Queue at the school"
   ]
  },
  {
   "cell_type": "code",
   "execution_count": 57,
   "metadata": {},
   "outputs": [],
   "source": [
    "int1 = '5 2'\n",
    "int2 = 'BGGBG'\n",
    "\n",
    "n , k = list(map(int, int1.split()))\n",
    "\n",
    "for i in range(k):\n",
    "    int2 = int2.replace('BG', 'GB')\n",
    "\n",
    "int2"
   ]
  },
  {
   "cell_type": "markdown",
   "metadata": {},
   "source": [
    "### 110A - Nearly Lucky Number"
   ]
  },
  {
   "cell_type": "code",
   "execution_count": 11,
   "metadata": {},
   "outputs": [
    {
     "name": "stdout",
     "output_type": "stream",
     "text": [
      "NO\n"
     ]
    }
   ],
   "source": [
    "inp = '1000000000000000000'\n",
    "\n",
    "if sum([1 if int(inp[i]) in [4,7] else 0 for i in range(len(inp))]) in [4, 7]:\n",
    "    print('YES')\n",
    "else:\n",
    "    print('NO')\n",
    "    "
   ]
  },
  {
   "cell_type": "code",
   "execution_count": null,
   "metadata": {},
   "outputs": [],
   "source": []
  }
 ],
 "metadata": {
  "kernelspec": {
   "display_name": "Python 3",
   "language": "python",
   "name": "python3"
  },
  "language_info": {
   "codemirror_mode": {
    "name": "ipython",
    "version": 3
   },
   "file_extension": ".py",
   "mimetype": "text/x-python",
   "name": "python",
   "nbconvert_exporter": "python",
   "pygments_lexer": "ipython3",
   "version": "3.7.6"
  }
 },
 "nbformat": 4,
 "nbformat_minor": 4
}
